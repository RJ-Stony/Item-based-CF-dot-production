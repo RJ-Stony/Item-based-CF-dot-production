{
  "nbformat": 4,
  "nbformat_minor": 0,
  "metadata": {
    "colab": {
      "provenance": [],
      "authorship_tag": "ABX9TyMNg9qMR7MA5OPmO7tDNP9g",
      "include_colab_link": true
    },
    "kernelspec": {
      "name": "python3",
      "display_name": "Python 3"
    },
    "language_info": {
      "name": "python"
    }
  },
  "cells": [
    {
      "cell_type": "markdown",
      "metadata": {
        "id": "view-in-github",
        "colab_type": "text"
      },
      "source": [
        "<a href=\"https://colab.research.google.com/github/RJ-Stony/Item-based-CF-dot-production/blob/main/Item_based_%ED%98%91%EC%97%85%ED%95%84%ED%84%B0%EB%A7%81_Dot_Production.ipynb\" target=\"_parent\"><img src=\"https://colab.research.google.com/assets/colab-badge.svg\" alt=\"Open In Colab\"/></a>"
      ]
    },
    {
      "cell_type": "markdown",
      "source": [
        "# 필요한 라이브러리 Import"
      ],
      "metadata": {
        "id": "_Pe9qyhheqw8"
      }
    },
    {
      "cell_type": "code",
      "source": [
        "from google.colab import drive\n",
        "drive.mount('/content/drive')\n",
        "\n",
        "import os\n",
        "import pandas as pd\n",
        "import numpy as np\n",
        "from sklearn.preprocessing import MultiLabelBinarizer\n",
        "from sklearn.metrics.pairwise import cosine_similarity\n",
        "from sklearn.metrics import mean_absolute_error, mean_squared_error\n",
        "from joblib import Parallel, delayed\n",
        "import seaborn as sns\n",
        "import matplotlib.pyplot as plt\n",
        "from datetime import datetime"
      ],
      "metadata": {
        "colab": {
          "base_uri": "https://localhost:8080/"
        },
        "id": "LWBhzHCkeo_e",
        "outputId": "6e74fcbe-ff8d-496e-ca93-490bdc778d50"
      },
      "execution_count": null,
      "outputs": [
        {
          "output_type": "stream",
          "name": "stdout",
          "text": [
            "Drive already mounted at /content/drive; to attempt to forcibly remount, call drive.mount(\"/content/drive\", force_remount=True).\n"
          ]
        }
      ]
    },
    {
      "cell_type": "markdown",
      "source": [
        "# 데이터 로드 및 확인"
      ],
      "metadata": {
        "id": "YJC8Hwz7sVVk"
      }
    },
    {
      "cell_type": "code",
      "source": [
        "path = \"/content/drive/MyDrive/코딩 & 알고리즘 준비/빅데이터 알고리즘/기말 프로젝트/Data/Movielens/\"\n",
        "os.listdir(path)\n",
        "\n",
        "movies_file = os.path.join(path, \"movies_refined.csv\")\n",
        "ratings_file = os.path.join(path, \"ratings_refined.csv\")\n",
        "\n",
        "movies_df = pd.read_csv(movies_file)\n",
        "ratings_df = pd.read_csv(ratings_file)\n",
        "\n",
        "movies_info = movies_df.info()\n",
        "ratings_info = ratings_df.info()\n",
        "\n",
        "movies_head = movies_df.head()\n",
        "ratings_head = ratings_df.head()\n",
        "\n",
        "movies_info, ratings_info, movies_head, ratings_head"
      ],
      "metadata": {
        "colab": {
          "base_uri": "https://localhost:8080/"
        },
        "id": "GmhaF5_LupYe",
        "outputId": "704c10ae-1521-4c94-d158-f18c7dff93b1"
      },
      "execution_count": null,
      "outputs": [
        {
          "output_type": "stream",
          "name": "stdout",
          "text": [
            "<class 'pandas.core.frame.DataFrame'>\n",
            "RangeIndex: 9703 entries, 0 to 9702\n",
            "Data columns (total 4 columns):\n",
            " #   Column   Non-Null Count  Dtype \n",
            "---  ------   --------------  ----- \n",
            " 0   movieId  9703 non-null   int64 \n",
            " 1   title    9703 non-null   object\n",
            " 2   year     9703 non-null   int64 \n",
            " 3   genres   9703 non-null   object\n",
            "dtypes: int64(2), object(2)\n",
            "memory usage: 303.3+ KB\n",
            "<class 'pandas.core.frame.DataFrame'>\n",
            "RangeIndex: 100789 entries, 0 to 100788\n",
            "Data columns (total 4 columns):\n",
            " #   Column     Non-Null Count   Dtype  \n",
            "---  ------     --------------   -----  \n",
            " 0   userId     100789 non-null  int64  \n",
            " 1   movieId    100789 non-null  int64  \n",
            " 2   rating     100789 non-null  float64\n",
            " 3   timestamp  100789 non-null  int64  \n",
            "dtypes: float64(1), int64(3)\n",
            "memory usage: 3.1 MB\n"
          ]
        },
        {
          "output_type": "execute_result",
          "data": {
            "text/plain": [
              "(None,\n",
              " None,\n",
              "    movieId                        title  year  \\\n",
              " 0        1                    Toy Story  1995   \n",
              " 1        2                      Jumanji  1995   \n",
              " 2        3             Grumpier Old Men  1995   \n",
              " 3        4            Waiting to Exhale  1995   \n",
              " 4        5  Father of the Bride Part II  1995   \n",
              " \n",
              "                                         genres  \n",
              " 0  Adventure Animation Children Comedy Fantasy  \n",
              " 1                   Adventure Children Fantasy  \n",
              " 2                               Comedy Romance  \n",
              " 3                         Comedy Drama Romance  \n",
              " 4                                       Comedy  ,\n",
              "    userId  movieId  rating  timestamp\n",
              " 0       1        1     4.0  964982703\n",
              " 1       1        3     4.0  964981247\n",
              " 2       1        6     4.0  964982224\n",
              " 3       1       47     5.0  964983815\n",
              " 4       1       50     5.0  964982931)"
            ]
          },
          "metadata": {},
          "execution_count": 118
        }
      ]
    },
    {
      "cell_type": "markdown",
      "source": [
        "# 데이터 전처리"
      ],
      "metadata": {
        "id": "Rzppl9sYvFS7"
      }
    },
    {
      "cell_type": "markdown",
      "source": [
        "## Null 값 처리"
      ],
      "metadata": {
        "id": "i9qD0eu6RmDy"
      }
    },
    {
      "cell_type": "code",
      "source": [
        "# Movies 데이터 Null 값 처리\n",
        "print(\"Movies 데이터 결측값:\\n\", movies_df.isnull().sum())\n",
        "movies_df['title'] = movies_df['title'].fillna('Unknown')\n",
        "\n",
        "# Ratings 데이터 Null 값 처리\n",
        "print(\"Ratings 데이터 결측값:\\n\", ratings_df.isnull().sum())\n",
        "ratings_df = ratings_df.dropna()"
      ],
      "metadata": {
        "colab": {
          "base_uri": "https://localhost:8080/"
        },
        "id": "GoZpbz0uu16d",
        "outputId": "80625913-1c21-4f62-bee3-8e2acd1e583e"
      },
      "execution_count": null,
      "outputs": [
        {
          "output_type": "stream",
          "name": "stdout",
          "text": [
            "Movies 데이터 결측값:\n",
            " movieId    0\n",
            "title      0\n",
            "year       0\n",
            "genres     0\n",
            "dtype: int64\n",
            "Ratings 데이터 결측값:\n",
            " userId       0\n",
            "movieId      0\n",
            "rating       0\n",
            "timestamp    0\n",
            "dtype: int64\n"
          ]
        }
      ]
    },
    {
      "cell_type": "markdown",
      "source": [
        "## 데이터 타입 변환"
      ],
      "metadata": {
        "id": "7muM5ajcSDnQ"
      }
    },
    {
      "cell_type": "code",
      "source": [
        "# 영화 연도가 숫자가 아닌 경우 처리\n",
        "if movies_df['year'].dtype != 'int64':\n",
        "    movies_df['year'] = pd.to_numeric(movies_df['year'], errors='coerce').fillna(0).astype(int)\n",
        "\n",
        "# 평점 데이터가 이상한 값(예: 0보다 작거나 5보다 큰 값)이 있는지 확인\n",
        "print(\"Ratings 데이터 이상 값 확인:\", ratings_df[(ratings_df['rating'] < 0) | (ratings_df['rating'] > 5)])\n",
        "ratings_df = ratings_df[(ratings_df['rating'] >= 0) & (ratings_df['rating'] <= 5)]"
      ],
      "metadata": {
        "colab": {
          "base_uri": "https://localhost:8080/"
        },
        "id": "jmGDrc6TSE_M",
        "outputId": "b79c7010-48da-470c-dd30-7ca5c21829e1"
      },
      "execution_count": null,
      "outputs": [
        {
          "output_type": "stream",
          "name": "stdout",
          "text": [
            "Ratings 데이터 이상 값 확인: Empty DataFrame\n",
            "Columns: [userId, movieId, rating, timestamp]\n",
            "Index: []\n"
          ]
        }
      ]
    },
    {
      "cell_type": "markdown",
      "source": [
        "## 시간 가중치 기반 평점 반영"
      ],
      "metadata": {
        "id": "jUCUr5_2U9X8"
      }
    },
    {
      "cell_type": "code",
      "source": [
        "# 시간 가중치를 반영한 평점 계산\n",
        "\n",
        "current_time = datetime.now().timestamp()\n",
        "max_time_diff = ratings_df['timestamp'].max() - ratings_df['timestamp'].min()\n",
        "ratings_df['time_weight'] = (current_time - ratings_df['timestamp']) / max_time_diff\n",
        "ratings_df['weighted_rating'] = ratings_df['rating'] * (1 - ratings_df['time_weight'])"
      ],
      "metadata": {
        "id": "HSUTSbzzU_Pb"
      },
      "execution_count": null,
      "outputs": []
    },
    {
      "cell_type": "markdown",
      "source": [
        "## 데이터 통합"
      ],
      "metadata": {
        "id": "qxY4wbC-SG4V"
      }
    },
    {
      "cell_type": "code",
      "source": [
        "# Movies와 Ratings 데이터 병합\n",
        "merged_df = pd.merge(ratings_df, movies_df, on='movieId', how='inner')\n",
        "\n",
        "# 중복 데이터 제거\n",
        "merged_df.drop_duplicates(inplace=True)\n",
        "\n",
        "print(\"병합된 데이터 샘플:\\n\", merged_df.head())\n",
        "\n",
        "print(\"\\n[전처리 완료]\\n\")\n",
        "print(f\"영화 데이터: {len(movies_df)}개 영화 로드 완료\")\n",
        "print(f\"평점 데이터: {len(ratings_df)}개 평점 로드 완료\")\n",
        "print(f\"평균 평점: {ratings_df['rating'].mean():.2f}, 시간 가중치를 적용한 평균 평점: {ratings_df['weighted_rating'].mean():.2f}\")"
      ],
      "metadata": {
        "colab": {
          "base_uri": "https://localhost:8080/"
        },
        "id": "ykOugBMBSH_0",
        "outputId": "2e1e4292-598b-47c3-ecc0-ae4543b5c34f"
      },
      "execution_count": null,
      "outputs": [
        {
          "output_type": "stream",
          "name": "stdout",
          "text": [
            "병합된 데이터 샘플:\n",
            "    userId  movieId  rating  timestamp  time_weight  weighted_rating  \\\n",
            "0       1        1     4.0  964982703     1.083384        -0.333535   \n",
            "1       1        3     4.0  964981247     1.083386        -0.333544   \n",
            "2       1        6     4.0  964982224     1.083385        -0.333538   \n",
            "3       1       47     5.0  964983815     1.083382        -0.416911   \n",
            "4       1       50     5.0  964982931     1.083384        -0.416918   \n",
            "\n",
            "                  title  year                                       genres  \n",
            "0             Toy Story  1995  Adventure Animation Children Comedy Fantasy  \n",
            "1      Grumpier Old Men  1995                               Comedy Romance  \n",
            "2                  Heat  1995                        Action Crime Thriller  \n",
            "3  Seven (a.k.a. Se7en)  1995                             Mystery Thriller  \n",
            "4   Usual Suspects, The  1995                       Crime Mystery Thriller  \n",
            "\n",
            "[전처리 완료]\n",
            "\n",
            "영화 데이터: 9703개 영화 로드 완료\n",
            "평점 데이터: 100789개 평점 로드 완료\n",
            "평균 평점: 3.50, 시간 가중치를 적용한 평균 평점: 0.89\n"
          ]
        }
      ]
    },
    {
      "cell_type": "markdown",
      "source": [
        "# 데이터 정규화 및 스케일링"
      ],
      "metadata": {
        "id": "WNjRqzfgSK-H"
      }
    },
    {
      "cell_type": "markdown",
      "source": [
        "## 평점 정규화"
      ],
      "metadata": {
        "id": "DFBqD6FySNIC"
      }
    },
    {
      "cell_type": "code",
      "source": [
        "# 평점 정규화 (0~1 스케일)\n",
        "ratings_df['rating_normalized'] = (ratings_df['rating'] - ratings_df['rating'].min()) / (ratings_df['rating'].max() - ratings_df['rating'].min())"
      ],
      "metadata": {
        "id": "Ds5sJe2ISOVH"
      },
      "execution_count": null,
      "outputs": []
    },
    {
      "cell_type": "markdown",
      "source": [
        "## 장르 데이터 벡터화"
      ],
      "metadata": {
        "id": "E37Mb5ccSQ52"
      }
    },
    {
      "cell_type": "code",
      "source": [
        "# 장르를 리스트로 변환\n",
        "movies_df['genres'] = movies_df['genres'].apply(lambda x: x.split('|') if isinstance(x, str) else [])\n",
        "\n",
        "# 장르 데이터 원-핫 인코딩\n",
        "mlb = MultiLabelBinarizer()\n",
        "genre_encoded = mlb.fit_transform(movies_df['genres'])\n",
        "genre_df = pd.DataFrame(genre_encoded, columns=mlb.classes_)\n",
        "\n",
        "# 영화 ID와 결합\n",
        "movies_with_genres = pd.concat([movies_df[['movieId']], genre_df], axis=1)\n",
        "print(\"장르 벡터화 샘플:\\n\", movies_with_genres.head())"
      ],
      "metadata": {
        "colab": {
          "base_uri": "https://localhost:8080/"
        },
        "id": "hXvvs91cSTBh",
        "outputId": "17c628b6-38dd-49f5-e481-90e806ba49b2"
      },
      "execution_count": null,
      "outputs": [
        {
          "output_type": "stream",
          "name": "stdout",
          "text": [
            "장르 벡터화 샘플:\n",
            "    movieId  Action  Action Adventure  Action Adventure Animation  \\\n",
            "0        1       0                 0                           0   \n",
            "1        2       0                 0                           0   \n",
            "2        3       0                 0                           0   \n",
            "3        4       0                 0                           0   \n",
            "4        5       0                 0                           0   \n",
            "\n",
            "   Action Adventure Animation Children  \\\n",
            "0                                    0   \n",
            "1                                    0   \n",
            "2                                    0   \n",
            "3                                    0   \n",
            "4                                    0   \n",
            "\n",
            "   Action Adventure Animation Children Comedy  \\\n",
            "0                                           0   \n",
            "1                                           0   \n",
            "2                                           0   \n",
            "3                                           0   \n",
            "4                                           0   \n",
            "\n",
            "   Action Adventure Animation Children Comedy Fantasy  \\\n",
            "0                                                  0    \n",
            "1                                                  0    \n",
            "2                                                  0    \n",
            "3                                                  0    \n",
            "4                                                  0    \n",
            "\n",
            "   Action Adventure Animation Children Comedy IMAX  \\\n",
            "0                                                0   \n",
            "1                                                0   \n",
            "2                                                0   \n",
            "3                                                0   \n",
            "4                                                0   \n",
            "\n",
            "   Action Adventure Animation Children Comedy Romance  \\\n",
            "0                                                  0    \n",
            "1                                                  0    \n",
            "2                                                  0    \n",
            "3                                                  0    \n",
            "4                                                  0    \n",
            "\n",
            "   Action Adventure Animation Children Comedy Sci-Fi  ...  Romance Thriller  \\\n",
            "0                                                  0  ...                 0   \n",
            "1                                                  0  ...                 0   \n",
            "2                                                  0  ...                 0   \n",
            "3                                                  0  ...                 0   \n",
            "4                                                  0  ...                 0   \n",
            "\n",
            "   Romance War  Romance Western  Sci-Fi  Sci-Fi IMAX  Sci-Fi Thriller  \\\n",
            "0            0                0       0            0                0   \n",
            "1            0                0       0            0                0   \n",
            "2            0                0       0            0                0   \n",
            "3            0                0       0            0                0   \n",
            "4            0                0       0            0                0   \n",
            "\n",
            "   Sci-Fi Thriller IMAX  Thriller  War  Western  \n",
            "0                     0         0    0        0  \n",
            "1                     0         0    0        0  \n",
            "2                     0         0    0        0  \n",
            "3                     0         0    0        0  \n",
            "4                     0         0    0        0  \n",
            "\n",
            "[5 rows x 951 columns]\n"
          ]
        }
      ]
    },
    {
      "cell_type": "markdown",
      "source": [
        "# 이상 데이터 탐지"
      ],
      "metadata": {
        "id": "hzEhYS6ySZU6"
      }
    },
    {
      "cell_type": "markdown",
      "source": [
        "## 유저별 최소 평가 수 확인"
      ],
      "metadata": {
        "id": "-CdrT7ndSbZf"
      }
    },
    {
      "cell_type": "code",
      "source": [
        "# 최소 평점 수를 기준으로 필터링 (예: 10개 이하 평점을 남긴 유저 제거)\n",
        "user_ratings_count = ratings_df.groupby('userId').size()\n",
        "active_users = user_ratings_count[user_ratings_count > 10].index\n",
        "ratings_df = ratings_df[ratings_df['userId'].isin(active_users)]\n",
        "print(\"평점이 충분한 유저 수:\", len(active_users))"
      ],
      "metadata": {
        "colab": {
          "base_uri": "https://localhost:8080/"
        },
        "id": "Gb5A6i-rSdMh",
        "outputId": "87ec308c-22da-496f-99b5-d6aa91e8c92b"
      },
      "execution_count": null,
      "outputs": [
        {
          "output_type": "stream",
          "name": "stdout",
          "text": [
            "평점이 충분한 유저 수: 610\n"
          ]
        }
      ]
    },
    {
      "cell_type": "markdown",
      "source": [
        "## 영화별 최소 평가 수 확인"
      ],
      "metadata": {
        "id": "WeWHHg2FShcy"
      }
    },
    {
      "cell_type": "code",
      "source": [
        "# 최소 평점 수를 기준으로 필터링 (예: 5개 이하 평점을 받은 영화 제거)\n",
        "movie_ratings_count = ratings_df.groupby('movieId').size()\n",
        "popular_movies = movie_ratings_count[movie_ratings_count > 5].index\n",
        "ratings_df = ratings_df[ratings_df['movieId'].isin(popular_movies)]\n",
        "print(\"평가가 충분한 영화 수:\", len(popular_movies))"
      ],
      "metadata": {
        "colab": {
          "base_uri": "https://localhost:8080/"
        },
        "id": "xTIiDkxpSjUD",
        "outputId": "69662b20-13f4-48c0-a7e4-8bacf71d1d2c"
      },
      "execution_count": null,
      "outputs": [
        {
          "output_type": "stream",
          "name": "stdout",
          "text": [
            "평가가 충분한 영화 수: 3267\n"
          ]
        }
      ]
    },
    {
      "cell_type": "markdown",
      "source": [
        "# user-item 평점 행렬 생성"
      ],
      "metadata": {
        "id": "uV9rZnIbPERa"
      }
    },
    {
      "cell_type": "code",
      "source": [
        "# 유저-영화 평점 행렬 생성\n",
        "user_movie_matrix = ratings_df.pivot_table(index='userId', columns='movieId', values='rating_normalized').fillna(0)\n",
        "\n",
        "print(\"유저-아이템 평점 행렬 샘플:\")\n",
        "print(user_movie_matrix.head())"
      ],
      "metadata": {
        "colab": {
          "base_uri": "https://localhost:8080/"
        },
        "id": "6FnE05mFPIOg",
        "outputId": "1c1c2a1e-2b5e-4410-c3b3-bc4cf6f655ea"
      },
      "execution_count": null,
      "outputs": [
        {
          "output_type": "stream",
          "name": "stdout",
          "text": [
            "유저-아이템 평점 행렬 샘플:\n",
            "movieId    1       2         3       4       5         6       7       8       \\\n",
            "userId                                                                          \n",
            "1        0.777778     0.0  0.777778     0.0     0.0  0.777778     0.0     0.0   \n",
            "2        0.000000     0.0  0.000000     0.0     0.0  0.000000     0.0     0.0   \n",
            "3        0.000000     0.0  0.000000     0.0     0.0  0.000000     0.0     0.0   \n",
            "4        0.000000     0.0  0.000000     0.0     0.0  0.000000     0.0     0.0   \n",
            "5        0.777778     0.0  0.000000     0.0     0.0  0.000000     0.0     0.0   \n",
            "\n",
            "movieId  9       10      ...  174055  175303  176101  176371  177593  177765  \\\n",
            "userId                   ...                                                   \n",
            "1           0.0     0.0  ...     0.0     0.0     0.0     0.0     0.0     0.0   \n",
            "2           0.0     0.0  ...     0.0     0.0     0.0     0.0     0.0     0.0   \n",
            "3           0.0     0.0  ...     0.0     0.0     0.0     0.0     0.0     0.0   \n",
            "4           0.0     0.0  ...     0.0     0.0     0.0     0.0     0.0     0.0   \n",
            "5           0.0     0.0  ...     0.0     0.0     0.0     0.0     0.0     0.0   \n",
            "\n",
            "movieId  179401  179819  180031  187593  \n",
            "userId                                   \n",
            "1           0.0     0.0     0.0     0.0  \n",
            "2           0.0     0.0     0.0     0.0  \n",
            "3           0.0     0.0     0.0     0.0  \n",
            "4           0.0     0.0     0.0     0.0  \n",
            "5           0.0     0.0     0.0     0.0  \n",
            "\n",
            "[5 rows x 3267 columns]\n"
          ]
        }
      ]
    },
    {
      "cell_type": "markdown",
      "source": [
        "# 아이템 유사도 행렬 계산"
      ],
      "metadata": {
        "id": "nVEoliYzIzkg"
      }
    },
    {
      "cell_type": "code",
      "source": [
        "# 아이템 기반 유사도 행렬 계산\n",
        "item_similarity_matrix = cosine_similarity(user_movie_matrix.T)\n",
        "\n",
        "# 데이터프레임으로 변환\n",
        "item_similarity_df = pd.DataFrame(item_similarity_matrix,\n",
        "                                   index=user_movie_matrix.columns,\n",
        "                                   columns=user_movie_matrix.columns)\n",
        "\n",
        "# 유사도 행렬 시각화\n",
        "plt.figure(figsize=(10, 8))\n",
        "sns.heatmap(item_similarity_matrix[:10, :10], annot=True, fmt=\".2f\", cmap=\"coolwarm\")\n",
        "plt.title(\"Item Sim Matrix (Top 10 Movies)\")\n",
        "plt.show()"
      ],
      "metadata": {
        "colab": {
          "base_uri": "https://localhost:8080/",
          "height": 669
        },
        "id": "hYHE8W39I4ZB",
        "outputId": "26d7d80f-d0b1-4619-a470-822edae203b0"
      },
      "execution_count": null,
      "outputs": [
        {
          "output_type": "display_data",
          "data": {
            "text/plain": [
              "<Figure size 1000x800 with 2 Axes>"
            ],
            "image/png": "[encoded data removed]"
          },
          "metadata": {}
        }
      ]
    },
    {
      "cell_type": "markdown",
      "source": [
        "## Pearson 유사도 계산"
      ],
      "metadata": {
        "id": "IJZw9TL8VMsV"
      }
    },
    {
      "cell_type": "code",
      "source": [
        "# Pearson Correlation 유사도는 사용자 간 상관관계를 기반\n",
        "pearson_similarity_matrix = user_movie_matrix.T.corr().fillna(0)\n",
        "\n",
        "# Pearson 유사도 데이터프레임 생성\n",
        "pearson_similarity_df = pd.DataFrame(pearson_similarity_matrix,\n",
        "                                     index=user_movie_matrix.columns,\n",
        "                                     columns=user_movie_matrix.columns).fillna(0)\n",
        "\n",
        "print(\"Pearson 유사도 행렬 샘플:\")\n",
        "print(pearson_similarity_df.head())"
      ],
      "metadata": {
        "colab": {
          "base_uri": "https://localhost:8080/"
        },
        "id": "ahd9iCQfVRds",
        "outputId": "446ab1e1-e2be-40e8-f182-c546213cdd15"
      },
      "execution_count": null,
      "outputs": [
        {
          "output_type": "stream",
          "name": "stdout",
          "text": [
            "Pearson 유사도 행렬 샘플:\n",
            "movieId    1         2         3         4         5         6         7       \\\n",
            "movieId                                                                         \n",
            "1        1.000000  0.006092  0.085877  0.154504  0.105973  0.071845  0.119955   \n",
            "2        0.006092  1.000000 -0.004262 -0.018223  0.005726  0.003738  0.008301   \n",
            "3        0.085877 -0.004262  1.000000 -0.010974 -0.005310 -0.013652 -0.009306   \n",
            "4        0.154504 -0.018223 -0.010974  1.000000  0.111336  0.034775  0.079545   \n",
            "5        0.105973  0.005726 -0.005310  0.111336  1.000000  0.296787  0.087925   \n",
            "\n",
            "movieId    8         9         10      ...  174055  175303  176101  176371  \\\n",
            "movieId                                ...                                   \n",
            "1        0.112397  0.052734 -0.031988  ...     0.0     0.0     0.0     0.0   \n",
            "2        0.017589 -0.008332  0.057081  ...     0.0     0.0     0.0     0.0   \n",
            "3       -0.005489 -0.004435 -0.008557  ...     0.0     0.0     0.0     0.0   \n",
            "4        0.036329 -0.008021 -0.007964  ...     0.0     0.0     0.0     0.0   \n",
            "5        0.418004 -0.010379  0.011014  ...     0.0     0.0     0.0     0.0   \n",
            "\n",
            "movieId  177593  177765  179401  179819  180031  187593  \n",
            "movieId                                                  \n",
            "1           0.0     0.0     0.0     0.0     0.0     0.0  \n",
            "2           0.0     0.0     0.0     0.0     0.0     0.0  \n",
            "3           0.0     0.0     0.0     0.0     0.0     0.0  \n",
            "4           0.0     0.0     0.0     0.0     0.0     0.0  \n",
            "5           0.0     0.0     0.0     0.0     0.0     0.0  \n",
            "\n",
            "[5 rows x 3267 columns]\n"
          ]
        }
      ]
    },
    {
      "cell_type": "markdown",
      "source": [
        "## 혼합 유사도 계산"
      ],
      "metadata": {
        "id": "JwAs7neSVeHB"
      }
    },
    {
      "cell_type": "code",
      "source": [
        "# 공통된 영화 ID 추출\n",
        "common_movie_ids = list(set(user_movie_matrix.columns) & set(movies_with_genres['movieId']))\n",
        "\n",
        "# 평점 기반 유사도 재정렬\n",
        "item_similarity_matrix = pd.DataFrame(item_similarity_matrix,\n",
        "                                      index=user_movie_matrix.columns,\n",
        "                                      columns=user_movie_matrix.columns)\n",
        "item_similarity_matrix = item_similarity_matrix.loc[common_movie_ids, common_movie_ids]\n",
        "\n",
        "# 장르 기반 유사도 재정렬\n",
        "genre_df_filtered = genre_df.loc[movies_with_genres['movieId'].isin(common_movie_ids)]\n",
        "genre_similarity_matrix = cosine_similarity(genre_df_filtered.values)\n",
        "genre_similarity_matrix = pd.DataFrame(genre_similarity_matrix,\n",
        "                                        index=common_movie_ids,\n",
        "                                        columns=common_movie_ids)\n",
        "\n",
        "# 혼합 유사도 계산\n",
        "alpha = 0.7\n",
        "beta = 0.3\n",
        "hybrid_similarity_matrix = alpha * item_similarity_matrix.values + beta * genre_similarity_matrix.values\n",
        "\n",
        "print(\"혼합 유사도 행렬 샘플:\")\n",
        "print(hybrid_similarity_matrix[:5, :5])"
      ],
      "metadata": {
        "colab": {
          "base_uri": "https://localhost:8080/"
        },
        "id": "JhqowlRGVfsP",
        "outputId": "43aa9583-b4e5-4d00-931f-d3daacf71846"
      },
      "execution_count": null,
      "outputs": [
        {
          "output_type": "stream",
          "name": "stdout",
          "text": [
            "혼합 유사도 행렬 샘플:\n",
            "[[1.         0.2822908  0.20534908 0.02222361 0.21317489]\n",
            " [0.2822908  1.         0.18986972 0.07148951 0.19846046]\n",
            " [0.20534908 0.18986972 1.         0.06932644 0.29463024]\n",
            " [0.02222361 0.07148951 0.06932644 1.         0.13410903]\n",
            " [0.21317489 0.19846046 0.29463024 0.13410903 1.        ]]\n"
          ]
        }
      ]
    },
    {
      "cell_type": "markdown",
      "source": [
        "# Dot Product 기반 평점 예측"
      ],
      "metadata": {
        "id": "QtviA5yaJMX7"
      }
    },
    {
      "cell_type": "code",
      "source": [
        "# 평점 예측 함수\n",
        "def predict_ratings(user_movie_matrix, similarity_matrix):\n",
        "    def parallel_dot_product(user_row):\n",
        "        numerator = np.dot(user_row, similarity_matrix)\n",
        "        denominator = np.abs(similarity_matrix).sum(axis=1)\n",
        "        return numerator / denominator\n",
        "\n",
        "    predicted_ratings = Parallel(n_jobs=-1)(\n",
        "        delayed(parallel_dot_product)(user_row) for user_row in user_movie_matrix.values\n",
        "    )\n",
        "    return pd.DataFrame(predicted_ratings, index=user_movie_matrix.index, columns=user_movie_matrix.columns)\n",
        "\n",
        "predicted_ratings_df = predict_ratings(user_movie_matrix, item_similarity_matrix)\n",
        "\n",
        "print(\"예측된 평점 행렬 샘플:\")\n",
        "print(predicted_ratings_df.head())"
      ],
      "metadata": {
        "colab": {
          "base_uri": "https://localhost:8080/"
        },
        "id": "DnDhtA0EvHbV",
        "outputId": "ab2807df-47f3-498e-eaa3-a1f449a3f22d"
      },
      "execution_count": null,
      "outputs": [
        {
          "output_type": "stream",
          "name": "stdout",
          "text": [
            "예측된 평점 행렬 샘플:\n",
            "movieId    1         2         3         4         5         6         7       \\\n",
            "userId                                                                          \n",
            "1        0.064385  0.059406  0.065198  0.059638  0.061179  0.063713  0.065290   \n",
            "2        0.006779  0.007054  0.004605  0.001447  0.005474  0.006913  0.004540   \n",
            "3        0.002453  0.001907  0.002228  0.002712  0.002284  0.002654  0.002409   \n",
            "4        0.042400  0.040480  0.048304  0.063885  0.047849  0.042259  0.051950   \n",
            "5        0.012508  0.013294  0.013411  0.038560  0.017725  0.012399  0.017718   \n",
            "\n",
            "movieId    8         9         10      ...    174055    175303    176101  \\\n",
            "userId                                 ...                                 \n",
            "1        0.058405  0.080504  0.063726  ...  0.052764  0.050657  0.050838   \n",
            "2        0.006121  0.002492  0.006523  ...  0.008739  0.013060  0.009642   \n",
            "3        0.001377  0.003157  0.002458  ...  0.001588  0.001234  0.001338   \n",
            "4        0.045760  0.067246  0.042872  ...  0.032564  0.024996  0.028895   \n",
            "5        0.017176  0.023827  0.013615  ...  0.008717  0.008504  0.008599   \n",
            "\n",
            "movieId    176371    177593    177765    179401    179819    180031    187593  \n",
            "userId                                                                         \n",
            "1        0.051529  0.051219  0.048214  0.053290  0.054078  0.053406  0.050998  \n",
            "2        0.008598  0.008925  0.011167  0.011388  0.008751  0.008028  0.011433  \n",
            "3        0.001389  0.001479  0.000997  0.001171  0.001215  0.001369  0.001017  \n",
            "4        0.031360  0.031704  0.020932  0.030231  0.031242  0.034256  0.028569  \n",
            "5        0.007953  0.007395  0.006444  0.007287  0.008149  0.008757  0.009140  \n",
            "\n",
            "[5 rows x 3267 columns]\n"
          ]
        }
      ]
    },
    {
      "cell_type": "markdown",
      "source": [
        "# 평가 지표 계산"
      ],
      "metadata": {
        "id": "-_RfNk7FvKjN"
      }
    },
    {
      "cell_type": "code",
      "source": [
        "# 평가 함수\n",
        "def evaluate_predictions(actual, predicted):\n",
        "    actual_flat = actual.values.flatten()\n",
        "    predicted_flat = predicted.values.flatten()\n",
        "    mask = ~np.isnan(actual_flat)\n",
        "    actual_flat = actual_flat[mask]\n",
        "    predicted_flat = predicted_flat[mask]\n",
        "    mae = mean_absolute_error(actual_flat, predicted_flat)\n",
        "    mse = mean_squared_error(actual_flat, predicted_flat)\n",
        "    rmse = np.sqrt(mse)\n",
        "    return mae, mse, rmse"
      ],
      "metadata": {
        "id": "7_CSt4zgvNhp"
      },
      "execution_count": null,
      "outputs": []
    },
    {
      "cell_type": "markdown",
      "source": [
        "## 평가 지표 다양화"
      ],
      "metadata": {
        "id": "_W7UORJfWs_p"
      }
    },
    {
      "cell_type": "code",
      "source": [
        "# Precision, Recall, Coverage 계산\n",
        "def precision_recall_at_k(actual, predicted, k=10):\n",
        "    total_precision, total_recall = 0, 0\n",
        "    for user in actual.index:\n",
        "        actual_movies = actual.loc[user].dropna().index\n",
        "        predicted_movies = predicted.loc[user].nlargest(k).index\n",
        "        true_positives = len(set(actual_movies) & set(predicted_movies))\n",
        "        total_precision += true_positives / k\n",
        "        total_recall += true_positives / len(actual_movies) if len(actual_movies) > 0 else 0\n",
        "    return total_precision / len(actual), total_recall / len(actual)\n",
        "\n",
        "# Coverage 계산\n",
        "precision, recall = precision_recall_at_k(user_movie_matrix, predicted_ratings_df)\n",
        "coverage = len(predicted_ratings_df.columns) / len(movies_df)\n",
        "\n",
        "# 평가 결과 정리\n",
        "mae, mse, rmse = evaluate_predictions(user_movie_matrix, predicted_ratings_df)\n",
        "results = pd.DataFrame({\"Metric\": [\"MAE\", \"MSE\", \"RMSE\", \"Precision@10\", \"Recall@10\", \"Coverage\"],\n",
        "                        \"Value\": [mae, mse, rmse, precision, recall, coverage]})\n",
        "\n",
        "print(results)"
      ],
      "metadata": {
        "colab": {
          "base_uri": "https://localhost:8080/"
        },
        "id": "hJNaKs-XWu6R",
        "outputId": "1b64f989-0b60-4af2-8be7-7eb85676832d"
      },
      "execution_count": null,
      "outputs": [
        {
          "output_type": "stream",
          "name": "stdout",
          "text": [
            "         Metric     Value\n",
            "0           MAE  0.051553\n",
            "1           MSE  0.019853\n",
            "2          RMSE  0.140899\n",
            "3  Precision@10  1.000000\n",
            "4     Recall@10  0.003061\n",
            "5      Coverage  0.336700\n"
          ]
        }
      ]
    },
    {
      "cell_type": "markdown",
      "source": [
        "# 사용자별 추천 리스트 생성"
      ],
      "metadata": {
        "id": "ZFO0keGmvQtg"
      }
    },
    {
      "cell_type": "code",
      "source": [
        "# title 추가\n",
        "movies_with_genres = pd.merge(movies_with_genres, movies_df[['movieId', 'title']], on='movieId', how='left')\n",
        "\n",
        "# 장르를 고려한 추천\n",
        "def diversified_recommendations(predictions, user_id, movies_with_genres, n_recommendations=10):\n",
        "    user_predictions = predictions.loc[user_id].sort_values(ascending=False)\n",
        "    top_movie_ids = user_predictions.index\n",
        "\n",
        "    diversified_recs = []\n",
        "    for genre in genre_df.columns:\n",
        "        genre_movies = movies_with_genres[(movies_with_genres['movieId'].isin(top_movie_ids)) & (movies_with_genres[genre] == 1)]\n",
        "        if not genre_movies.empty:\n",
        "            diversified_recs.extend(genre_movies.head(1)['title'].values)\n",
        "            if len(diversified_recs) >= n_recommendations:\n",
        "                break\n",
        "\n",
        "    return diversified_recs\n",
        "\n",
        "# 추천 리스트 정리 함수\n",
        "def print_recommendations(recommendations):\n",
        "    print(\"\\n[추천 영화 리스트]\")\n",
        "    print(pd.DataFrame({\"Rank\": range(1, len(recommendations) + 1), \"Movie Title\": recommendations}))\n",
        "\n",
        "# 특정 유저에 대한 추천\n",
        "diverse_recommendations = diversified_recommendations(predicted_ratings_df, user_id=1, movies_with_genres=movies_with_genres)\n",
        "print_recommendations(diverse_recommendations)"
      ],
      "metadata": {
        "colab": {
          "base_uri": "https://localhost:8080/"
        },
        "id": "VquOxyWhJtN6",
        "outputId": "a5e143fa-4634-448a-9dbd-d2340e46382b"
      },
      "execution_count": null,
      "outputs": [
        {
          "output_type": "stream",
          "name": "stdout",
          "text": [
            "\n",
            "[추천 영화 리스트]\n",
            "   Rank                          Movie Title\n",
            "0     1                         Sudden Death\n",
            "1     2                           Quest, The\n",
            "2     3           How to Train Your Dragon 2\n",
            "3     4                                Brave\n",
            "4     5                     Incredibles, The\n",
            "5     6  TMNT (Teenage Mutant Ninja Turtles)\n",
            "6     7          Madagascar: Escape 2 Africa\n",
            "7     8       Ice Age: Dawn of the Dinosaurs\n",
            "8     9                       Chicken Little\n",
            "9    10                                Rango\n"
          ]
        }
      ]
    },
    {
      "cell_type": "markdown",
      "source": [
        "## 특정 장르 기반 추천"
      ],
      "metadata": {
        "id": "1GYNGpsObP3s"
      }
    },
    {
      "cell_type": "code",
      "source": [
        "def genre_based_recommendations(predictions, user_id, movies_with_genres, genre_filter, n_recommendations=10):\n",
        "    user_predictions = predictions.loc[user_id].sort_values(ascending=False)\n",
        "    top_movie_ids = user_predictions.index\n",
        "\n",
        "    filtered_recs = movies_with_genres[\n",
        "        (movies_with_genres['movieId'].isin(top_movie_ids)) & (movies_with_genres[genre_filter] == 1)\n",
        "    ]\n",
        "    return filtered_recs.head(n_recommendations)['title'].tolist()\n",
        "\n",
        "# 특정 장르 추천\n",
        "genre_recommendations = genre_based_recommendations(predicted_ratings_df, user_id=1, movies_with_genres=movies_with_genres, genre_filter=\"Action\")\n",
        "print(\"\\n[액션 장르 추천 영화 리스트]\")\n",
        "print_recommendations(genre_recommendations)"
      ],
      "metadata": {
        "colab": {
          "base_uri": "https://localhost:8080/"
        },
        "id": "l_Ioqx7oW2Ko",
        "outputId": "dd40b49a-e7ff-44b7-f543-6728e42bd2b5"
      },
      "execution_count": null,
      "outputs": [
        {
          "output_type": "stream",
          "name": "stdout",
          "text": [
            "\n",
            "[액션 장르 추천 영화 리스트]\n",
            "\n",
            "[추천 영화 리스트]\n",
            "   Rank                                        Movie Title\n",
            "0     1                                       Sudden Death\n",
            "1     2                      Under Siege 2: Dark Territory\n",
            "2     3  Bloodsport 2 (a.k.a. Bloodsport II: The Next K...\n",
            "3     4                                         Bloodsport\n",
            "4     5                                 Kiss of the Dragon\n",
            "5     6                                   Last Castle, The\n",
            "6     7                                       Walking Tall\n",
            "7     8                                       Jason Bourne\n"
          ]
        }
      ]
    }
  ]
}